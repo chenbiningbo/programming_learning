{
 "cells": [
  {
   "cell_type": "markdown",
   "metadata": {},
   "source": [
    "$ \\textbf{SCM.254 Applied Programming and Data Analysis in Python} $\n",
    "\n",
    "$ \\Large \\textbf{Session 5: Data Analysis with Pandas} $"
   ]
  },
  {
   "cell_type": "markdown",
   "metadata": {},
   "source": [
    "### Name: Dan Zheng\n",
    "### Program: Ningbo"
   ]
  },
  {
   "cell_type": "markdown",
   "metadata": {},
   "source": [
    "#   --------------------------------"
   ]
  },
  {
   "cell_type": "code",
   "execution_count": 1,
   "metadata": {
    "pycharm": {
     "is_executing": false
    }
   },
   "outputs": [],
   "source": [
    "import pandas as pd\n",
    "from pandas import Series\n",
    "from pandas import DataFrame"
   ]
  },
  {
   "cell_type": "code",
   "execution_count": 2,
   "metadata": {
    "pycharm": {
     "is_executing": false
    }
   },
   "outputs": [],
   "source": [
    "import pandas as pd"
   ]
  },
  {
   "cell_type": "markdown",
   "metadata": {},
   "source": [
    "## Activity 1: Series\n",
    "\n",
    "Given the list L = [\"Monday\",\"Tuesday\",\"Wednesday\",\"Thursday\",\"Friday\",\"Saturday\",\"Sunday\"]:\n",
    "- Create a Series from list L\n",
    "- Assign new index names to the items of the list, starting with 1 for Sunday and finishing with 7 for Saturday.\n",
    "- Change the value associated to index 1 to \"The best day of the week!\"\n",
    "------------------"
   ]
  },
  {
   "cell_type": "markdown",
   "metadata": {},
   "source": [
    "- Create a Series from list L"
   ]
  },
  {
   "cell_type": "code",
   "execution_count": 3,
   "metadata": {
    "pycharm": {
     "is_executing": false
    }
   },
   "outputs": [
    {
     "data": {
      "text/plain": "0    4\n1    7\n2   -5\n3    3\ndtype: int64"
     },
     "metadata": {},
     "output_type": "execute_result",
     "execution_count": 3
    }
   ],
   "source": [
    "# Write your code here\n",
    "obj=Series([4,7,-5,3])\n",
    "obj"
   ]
  },
  {
   "cell_type": "code",
   "execution_count": 4,
   "metadata": {
    "pycharm": {
     "is_executing": false
    }
   },
   "outputs": [
    {
     "data": {
      "text/plain": "0       Monday\n1      Tuesday\n2    Wednesday\n3     Thursday\n4       Friday\n5     Saturday\n6       Sunday\ndtype: object"
     },
     "metadata": {},
     "output_type": "execute_result",
     "execution_count": 4
    }
   ],
   "source": [
    "L = Series([\"Monday\",\"Tuesday\",\"Wednesday\",\"Thursday\",\"Friday\",\"Saturday\",\"Sunday\"])\n",
    "L"
   ]
  },
  {
   "cell_type": "markdown",
   "metadata": {},
   "source": [
    "- Assign new index names to the items of the list, starting with 1 for Sunday and finishing with 7 for Saturday."
   ]
  },
  {
   "cell_type": "code",
   "execution_count": 5,
   "metadata": {
    "pycharm": {
     "is_executing": false
    }
   },
   "outputs": [
    {
     "data": {
      "text/plain": "2       Monday\n3      Tuesday\n4    Wednesday\n5     Thursday\n6       Friday\n7     Saturday\n1       Sunday\ndtype: object"
     },
     "metadata": {},
     "output_type": "execute_result",
     "execution_count": 5
    }
   ],
   "source": [
    "# Write your code here\n",
    "L1=Series([\"Monday\",\"Tuesday\",\"Wednesday\",\"Thursday\",\"Friday\",\"Saturday\",\"Sunday\"],index=[2,3,4,5,6,7,1])\n",
    "L1"
   ]
  },
  {
   "cell_type": "markdown",
   "metadata": {},
   "source": [
    "- Change the value associated to index 1 to \"the best day of the week!\""
   ]
  },
  {
   "cell_type": "code",
   "execution_count": 6,
   "metadata": {
    "pycharm": {
     "is_executing": false
    }
   },
   "outputs": [
    {
     "data": {
      "text/plain": "2                      Monday\n3                     Tuesday\n4                   Wednesday\n5                    Thursday\n6                      Friday\n7                    Saturday\n1    the best day of the week\ndtype: object"
     },
     "metadata": {},
     "output_type": "execute_result",
     "execution_count": 6
    }
   ],
   "source": [
    "# Write your code here\n",
    "L1.index=[2,3,4,5,6,7,1]\n",
    "L1[1]=\"the best day of the week\"\n",
    "L1"
   ]
  },
  {
   "cell_type": "markdown",
   "metadata": {},
   "source": [
    "## Activity 2: DataFrame\n",
    "\n",
    "Given a time series consisting of demand values for the first semester of 2018 (table below), write a Python code to perform the following tasks: \n",
    "\n",
    "| Month | Demand |\n",
    "|-------|--------|\n",
    "|  Jan  |   50   |\n",
    "|  Feb  |   70   |\n",
    "|  Mar  |   65   |\n",
    "|  Apr  |   45   |\n",
    "|  May  |   60   |\n",
    "|  Jun  |   75   |\n",
    "\n",
    "- Create a dictionary of the time series (the keys are \"month\" and \"demand\")\n",
    "- Convert the dictionary to a DataFrame\n",
    "- Add a column to the DataFrame corresponding to the year \n",
    "- Convert demand values to a list\n",
    "------------------------------------"
   ]
  },
  {
   "cell_type": "markdown",
   "metadata": {},
   "source": [
    "- Create a dictionary of the time series (the keys are \"month\" and \"demand\")"
   ]
  },
  {
   "cell_type": "code",
   "execution_count": 7,
   "metadata": {
    "pycharm": {
     "is_executing": false
    }
   },
   "outputs": [
    {
     "data": {
      "text/plain": "  Month  Demand\n0   Jan      50\n1   Feb      70\n2   Mar      65\n3   Apr      45\n4   May      60\n5   Jun      75",
      "text/html": "<div>\n<style scoped>\n    .dataframe tbody tr th:only-of-type {\n        vertical-align: middle;\n    }\n\n    .dataframe tbody tr th {\n        vertical-align: top;\n    }\n\n    .dataframe thead th {\n        text-align: right;\n    }\n</style>\n<table border=\"1\" class=\"dataframe\">\n  <thead>\n    <tr style=\"text-align: right;\">\n      <th></th>\n      <th>Month</th>\n      <th>Demand</th>\n    </tr>\n  </thead>\n  <tbody>\n    <tr>\n      <th>0</th>\n      <td>Jan</td>\n      <td>50</td>\n    </tr>\n    <tr>\n      <th>1</th>\n      <td>Feb</td>\n      <td>70</td>\n    </tr>\n    <tr>\n      <th>2</th>\n      <td>Mar</td>\n      <td>65</td>\n    </tr>\n    <tr>\n      <th>3</th>\n      <td>Apr</td>\n      <td>45</td>\n    </tr>\n    <tr>\n      <th>4</th>\n      <td>May</td>\n      <td>60</td>\n    </tr>\n    <tr>\n      <th>5</th>\n      <td>Jun</td>\n      <td>75</td>\n    </tr>\n  </tbody>\n</table>\n</div>"
     },
     "metadata": {},
     "output_type": "execute_result",
     "execution_count": 7
    }
   ],
   "source": [
    "# Create a dictionary of the time series (the keys are \"month\" and \"demand\")\n",
    "Time_Series={\"Month\":[\"Jan\",\"Feb\",\"Mar\",\"Apr\",\"May\",\"Jun\"],\"Demand\":[50,70,65,45,60,75]}\n",
    "data=DataFrame(Time_Series)\n",
    "data"
   ]
  },
  {
   "cell_type": "markdown",
   "metadata": {},
   "source": [
    "- Convert the dictionary to a DataFrame"
   ]
  },
  {
   "cell_type": "code",
   "execution_count": 8,
   "metadata": {
    "pycharm": {
     "is_executing": false
    }
   },
   "outputs": [
    {
     "data": {
      "text/plain": "  Month  Demand\n0   Jan      50\n1   Feb      70\n2   Mar      65\n3   Apr      45\n4   May      60\n5   Jun      75",
      "text/html": "<div>\n<style scoped>\n    .dataframe tbody tr th:only-of-type {\n        vertical-align: middle;\n    }\n\n    .dataframe tbody tr th {\n        vertical-align: top;\n    }\n\n    .dataframe thead th {\n        text-align: right;\n    }\n</style>\n<table border=\"1\" class=\"dataframe\">\n  <thead>\n    <tr style=\"text-align: right;\">\n      <th></th>\n      <th>Month</th>\n      <th>Demand</th>\n    </tr>\n  </thead>\n  <tbody>\n    <tr>\n      <th>0</th>\n      <td>Jan</td>\n      <td>50</td>\n    </tr>\n    <tr>\n      <th>1</th>\n      <td>Feb</td>\n      <td>70</td>\n    </tr>\n    <tr>\n      <th>2</th>\n      <td>Mar</td>\n      <td>65</td>\n    </tr>\n    <tr>\n      <th>3</th>\n      <td>Apr</td>\n      <td>45</td>\n    </tr>\n    <tr>\n      <th>4</th>\n      <td>May</td>\n      <td>60</td>\n    </tr>\n    <tr>\n      <th>5</th>\n      <td>Jun</td>\n      <td>75</td>\n    </tr>\n  </tbody>\n</table>\n</div>"
     },
     "metadata": {},
     "output_type": "execute_result",
     "execution_count": 8
    }
   ],
   "source": [
    "# Convert the dictionary to a DataFrame\n",
    "data=DataFrame(Time_Series)\n",
    "data"
   ]
  },
  {
   "cell_type": "markdown",
   "metadata": {},
   "source": [
    "- Add a column to the DataFrame corresponding to the year "
   ]
  },
  {
   "cell_type": "code",
   "execution_count": 9,
   "metadata": {
    "pycharm": {
     "is_executing": false
    }
   },
   "outputs": [
    {
     "data": {
      "text/plain": "  Month  Demand  year\n0   Jan      50  2018\n1   Feb      70  2018\n2   Mar      65  2018\n3   Apr      45  2018\n4   May      60  2018\n5   Jun      75  2018",
      "text/html": "<div>\n<style scoped>\n    .dataframe tbody tr th:only-of-type {\n        vertical-align: middle;\n    }\n\n    .dataframe tbody tr th {\n        vertical-align: top;\n    }\n\n    .dataframe thead th {\n        text-align: right;\n    }\n</style>\n<table border=\"1\" class=\"dataframe\">\n  <thead>\n    <tr style=\"text-align: right;\">\n      <th></th>\n      <th>Month</th>\n      <th>Demand</th>\n      <th>year</th>\n    </tr>\n  </thead>\n  <tbody>\n    <tr>\n      <th>0</th>\n      <td>Jan</td>\n      <td>50</td>\n      <td>2018</td>\n    </tr>\n    <tr>\n      <th>1</th>\n      <td>Feb</td>\n      <td>70</td>\n      <td>2018</td>\n    </tr>\n    <tr>\n      <th>2</th>\n      <td>Mar</td>\n      <td>65</td>\n      <td>2018</td>\n    </tr>\n    <tr>\n      <th>3</th>\n      <td>Apr</td>\n      <td>45</td>\n      <td>2018</td>\n    </tr>\n    <tr>\n      <th>4</th>\n      <td>May</td>\n      <td>60</td>\n      <td>2018</td>\n    </tr>\n    <tr>\n      <th>5</th>\n      <td>Jun</td>\n      <td>75</td>\n      <td>2018</td>\n    </tr>\n  </tbody>\n</table>\n</div>"
     },
     "metadata": {},
     "output_type": "execute_result",
     "execution_count": 9
    }
   ],
   "source": [
    "# Add a column to the DataFrame corresponding to the year\n",
    "data[\"year\"]=2018\n",
    "data"
   ]
  },
  {
   "cell_type": "code",
   "execution_count": 10,
   "metadata": {
    "pycharm": {
     "is_executing": false
    }
   },
   "outputs": [
    {
     "data": {
      "text/plain": "   year Month  Demand\n0  2018   Jan      50\n1  2018   Feb      70\n2  2018   Mar      65\n3  2018   Apr      45\n4  2018   May      60\n5  2018   Jun      75",
      "text/html": "<div>\n<style scoped>\n    .dataframe tbody tr th:only-of-type {\n        vertical-align: middle;\n    }\n\n    .dataframe tbody tr th {\n        vertical-align: top;\n    }\n\n    .dataframe thead th {\n        text-align: right;\n    }\n</style>\n<table border=\"1\" class=\"dataframe\">\n  <thead>\n    <tr style=\"text-align: right;\">\n      <th></th>\n      <th>year</th>\n      <th>Month</th>\n      <th>Demand</th>\n    </tr>\n  </thead>\n  <tbody>\n    <tr>\n      <th>0</th>\n      <td>2018</td>\n      <td>Jan</td>\n      <td>50</td>\n    </tr>\n    <tr>\n      <th>1</th>\n      <td>2018</td>\n      <td>Feb</td>\n      <td>70</td>\n    </tr>\n    <tr>\n      <th>2</th>\n      <td>2018</td>\n      <td>Mar</td>\n      <td>65</td>\n    </tr>\n    <tr>\n      <th>3</th>\n      <td>2018</td>\n      <td>Apr</td>\n      <td>45</td>\n    </tr>\n    <tr>\n      <th>4</th>\n      <td>2018</td>\n      <td>May</td>\n      <td>60</td>\n    </tr>\n    <tr>\n      <th>5</th>\n      <td>2018</td>\n      <td>Jun</td>\n      <td>75</td>\n    </tr>\n  </tbody>\n</table>\n</div>"
     },
     "metadata": {},
     "output_type": "execute_result",
     "execution_count": 10
    }
   ],
   "source": [
    "data1=data[[\"year\",\"Month\",\"Demand\"]].copy()\n",
    "data1"
   ]
  },
  {
   "cell_type": "markdown",
   "metadata": {},
   "source": [
    "- Convert demand values to a list"
   ]
  },
  {
   "cell_type": "code",
   "execution_count": 11,
   "metadata": {
    "pycharm": {
     "is_executing": false
    }
   },
   "outputs": [
    {
     "data": {
      "text/plain": "[50, 70, 65, 45, 60, 75]"
     },
     "metadata": {},
     "output_type": "execute_result",
     "execution_count": 11
    }
   ],
   "source": [
    "# Convert demand values to a list\n",
    "data[\"Demand\"].tolist()"
   ]
  },
  {
   "cell_type": "markdown",
   "metadata": {},
   "source": [
    "## Activity 3: Data loading/exporting\n",
    "\n",
    "Write a Python program to perform the following operations:\n",
    "- Read the data from the Excel file: sales_data.xlsx\n",
    "- View and inspect the data from the sales_data.xlsx file: display the first 10 rows, display the last 10 rows, return the number of rows and columns, and return the column datatypes.\n",
    "- Save the DataFrame as a CSV file.\n",
    "--------------------------"
   ]
  },
  {
   "cell_type": "markdown",
   "metadata": {},
   "source": [
    "- Read the data from the Excel file: sales.xlsx"
   ]
  },
  {
   "cell_type": "code",
   "execution_count": 5,
   "metadata": {
    "pycharm": {
     "is_executing": false
    }
   },
   "outputs": [],
   "source": [
    "# Read the data from the Excel file: sales.xlsx\n",
    "# FIX_ME\n",
    "import pandas as pd\n",
    "from pandas import Series\n",
    "from pandas import DataFrame\n",
    "data2 = pd.read_excel(\"D:\\project\\session5_dataanlysis_panda/sales_data.xlsx\")"
   ]
  },
  {
   "cell_type": "markdown",
   "metadata": {},
   "source": [
    "- View and inspect the data from the sales.xlsx file: display the first 10 rows, display the last 10 rows, return a tuple with the number of rows and columns, and return the column data types."
   ]
  },
  {
   "cell_type": "code",
   "execution_count": null,
   "metadata": {
    "pycharm": {
     "is_executing": false
    }
   },
   "outputs": [],
   "source": [
    "# Display the first 10 rows\n",
    "data2.head(10)\n",
    ""
   ]
  },
  {
   "cell_type": "code",
   "execution_count": null,
   "metadata": {
    "pycharm": {
     "is_executing": false
    }
   },
   "outputs": [],
   "source": [
    "# Display the last 10 rows\n",
    "data2.tail(10)"
   ]
  },
  {
   "cell_type": "code",
   "execution_count": null,
   "metadata": {
    "pycharm": {
     "is_executing": false
    }
   },
   "outputs": [],
   "source": [
    "# Return a tuple with the number of rows and columns\n",
    "data2.shape"
   ]
  },
  {
   "cell_type": "code",
   "execution_count": null,
   "metadata": {
    "pycharm": {
     "is_executing": false
    }
   },
   "outputs": [],
   "source": [
    "# Return the column data types\n",
    "data2.info()"
   ]
  },
  {
   "cell_type": "markdown",
   "metadata": {},
   "source": [
    "- Save the DataFrame as a CSV file."
   ]
  },
  {
   "cell_type": "code",
   "execution_count": null,
   "metadata": {
    "pycharm": {
     "is_executing": false
    }
   },
   "outputs": [],
   "source": [
    "# Save the DataFrame as a CSV file.\n",
    "data2.to_csv(\"D:/MIT/lesson/IAP/Python/Session5/sales_data.csv\")"
   ]
  },
  {
   "cell_type": "markdown",
   "metadata": {},
   "source": [
    "## Activity 4: Indexing, selection, and filtering\n",
    "\n",
    "Using the sales_data dataset:\n",
    "- Create a new column that contains the profit per SKU unit (price minus cost).\n",
    "- Return the data of the first row using iloc()\n",
    "- Return the data of the first row using head()\n",
    "- Return data of just the 'Sales' and 'Dev' columns as a DataFrame\n",
    "- Return SKUs (rows) for which sales are greater than 50\n",
    "- Return SKUs (rows) for which sales are greater than 50 AND standard deviation (Dev) is smaller than 20.\n",
    "- Extra Challenge: Create a new DataFrame of the SKUs (rows) for sales are greater than 50 AND standard deviation (Dev) is smaller than 20, outputting only the \"cost\" and \"price\" columns (in one line of code).\n",
    "----------------------"
   ]
  },
  {
   "cell_type": "markdown",
   "metadata": {},
   "source": [
    "- Create a new column that contains the profit per SKU unit (price minus cost)."
   ]
  },
  {
   "cell_type": "code",
   "execution_count": null,
   "metadata": {
    "pycharm": {
     "is_executing": false
    }
   },
   "outputs": [],
   "source": [
    "# Create a new column that contains the profit per SKU unit (price minus cost).\n",
    "data2['profit_per_SKU']=data2['Price']-data2['Cost']\n",
    "data2.head(2)"
   ]
  },
  {
   "cell_type": "markdown",
   "metadata": {},
   "source": [
    "- Return the data of the first row using iloc()"
   ]
  },
  {
   "cell_type": "code",
   "execution_count": null,
   "metadata": {
    "pycharm": {
     "is_executing": false
    }
   },
   "outputs": [],
   "source": [
    "# Return the data of the first row using iloc()\n",
    "data2.iloc[0,:]"
   ]
  },
  {
   "cell_type": "markdown",
   "metadata": {},
   "source": [
    "- Return the data of the first row using head()"
   ]
  },
  {
   "cell_type": "code",
   "execution_count": null,
   "metadata": {
    "pycharm": {
     "is_executing": false
    }
   },
   "outputs": [],
   "source": [
    "# Return the data of the first row using head()\n",
    "data2.head(0)"
   ]
  },
  {
   "cell_type": "markdown",
   "metadata": {},
   "source": [
    "- Return data of just the 'Sales' and 'Dev' columns as a DataFrame"
   ]
  },
  {
   "cell_type": "code",
   "execution_count": null,
   "metadata": {
    "pycharm": {
     "is_executing": false
    }
   },
   "outputs": [],
   "source": [
    "# Return data of just the 'Sales' and 'Dev' columns as a DataFrame\n",
    "data2[['Sales','Dev']]"
   ]
  },
  {
   "cell_type": "markdown",
   "metadata": {},
   "source": [
    "- Return SKUs (rows) for which sales are greater than 50"
   ]
  },
  {
   "cell_type": "code",
   "execution_count": null,
   "metadata": {
    "pycharm": {
     "is_executing": false
    }
   },
   "outputs": [],
   "source": [
    "# Return SKUs (rows) for which sales are greater than 50\n",
    "data3=data2[data2['Sales']>50]\n",
    "data3['SKU']"
   ]
  },
  {
   "cell_type": "markdown",
   "metadata": {},
   "source": [
    "- Return SKUs (rows) for which sales are greater than 50 AND standard deviation (Dev) is smaller than 20."
   ]
  },
  {
   "cell_type": "code",
   "execution_count": null,
   "metadata": {
    "pycharm": {
     "is_executing": false
    }
   },
   "outputs": [],
   "source": [
    "# Return SKUs (rows) for which sales are greater than 50 AND standard deviation (Dev) is smaller than 20.\n",
    "data4=data2[(data2['Sales']>50)&(data2['Dev']<20)]\n",
    "data4"
   ]
  },
  {
   "cell_type": "markdown",
   "metadata": {},
   "source": [
    "- Extra Challenge: In one line of code, create a new DataFrame of the SKUs (rows) for sales are greater than 50 AND standard deviation (Dev) is smaller than 20, outputting only the \"cost\" and \"price\" columns."
   ]
  },
  {
   "cell_type": "code",
   "execution_count": null,
   "metadata": {
    "pycharm": {
     "is_executing": false
    }
   },
   "outputs": [],
   "source": [
    "# In one line of code, create a new DataFrame of the SKUs (rows) for sales are greater than 50 AND \n",
    "# standard deviation (Dev) is smaller than 20, outputting only the \"cost\" and \"price\" columns.\n",
    "data4[['Cost','Price']]"
   ]
  },
  {
   "cell_type": "markdown",
   "metadata": {},
   "source": [
    "## Activity 5: Sorting and ranking\n",
    "\n",
    "Using the sales dataset:\n",
    "- Sort the SKUs (rows) by sales in descending order\n",
    "- Delete the column 'Profit' in one line of code \n",
    "- Display the first ten rows of the data set\n",
    "---------------"
   ]
  },
  {
   "cell_type": "markdown",
   "metadata": {},
   "source": [
    "- Sort the SKUs (rows) by sales in descending order"
   ]
  },
  {
   "cell_type": "code",
   "execution_count": null,
   "metadata": {
    "pycharm": {
     "is_executing": false
    }
   },
   "outputs": [],
   "source": [
    "# Sort the SKUs (rows) by sales in descending order\n",
    "data2.sort_values(ascending=False,by='Sales')"
   ]
  },
  {
   "cell_type": "markdown",
   "metadata": {},
   "source": [
    "- Delete the column 'profit' in one line of code "
   ]
  },
  {
   "cell_type": "code",
   "execution_count": null,
   "metadata": {
    "pycharm": {
     "is_executing": false
    }
   },
   "outputs": [],
   "source": [
    "# Delete the column 'profit' in one line of code\n",
    "data2.drop(columns=['profit_per_SKU'])"
   ]
  },
  {
   "cell_type": "markdown",
   "metadata": {},
   "source": [
    "- Display the first ten rows of the data set"
   ]
  },
  {
   "cell_type": "code",
   "execution_count": null,
   "metadata": {
    "pycharm": {
     "is_executing": false
    }
   },
   "outputs": [],
   "source": [
    "# Display the first ten rows of the data set\n",
    "data2.head(10)"
   ]
  },
  {
   "cell_type": "markdown",
   "metadata": {},
   "source": [
    "## Activity 6: Computing descriptive statistics\n",
    "\n",
    "Write a Python code to do the following:\n",
    "- Count the number of SKUs\n",
    "- Caculate total sales (sum all sales)\n",
    "- Find the average price\n",
    "- Return the SKU with the highest cost (in one line of code)\n",
    "- Return the SKU with the lowest price (in one line of code)\n",
    "--------------"
   ]
  },
  {
   "cell_type": "markdown",
   "metadata": {},
   "source": [
    "- Count the number of SKUs"
   ]
  },
  {
   "cell_type": "code",
   "execution_count": null,
   "metadata": {
    "pycharm": {
     "is_executing": false
    }
   },
   "outputs": [],
   "source": [
    "# Count the number of SKUs\n",
    "data2['SKU'].count()"
   ]
  },
  {
   "cell_type": "markdown",
   "metadata": {},
   "source": [
    "- Caculate total sales (sum all sales)"
   ]
  },
  {
   "cell_type": "code",
   "execution_count": null,
   "metadata": {
    "pycharm": {
     "is_executing": false
    }
   },
   "outputs": [],
   "source": [
    "# Caculate total sales (sum all sales)\n",
    "data2['Sales'].sum()"
   ]
  },
  {
   "cell_type": "markdown",
   "metadata": {},
   "source": [
    "- Find the average price"
   ]
  },
  {
   "cell_type": "code",
   "execution_count": null,
   "metadata": {
    "pycharm": {
     "is_executing": false
    }
   },
   "outputs": [],
   "source": [
    "# Find the average price\n",
    "data2['Price'].mean()"
   ]
  },
  {
   "cell_type": "markdown",
   "metadata": {},
   "source": [
    "- Return the index of the row with the highest cost (in one line of code)"
   ]
  },
  {
   "cell_type": "code",
   "execution_count": null,
   "metadata": {
    "pycharm": {
     "is_executing": false
    }
   },
   "outputs": [],
   "source": [
    "# Return the index of the row with the highest cost (in one line of code)\n",
    "data2['Cost'].idxmax()"
   ]
  },
  {
   "cell_type": "markdown",
   "metadata": {},
   "source": [
    "- Return the index of the row with the lowest price (in one line of code)"
   ]
  },
  {
   "cell_type": "code",
   "execution_count": null,
   "metadata": {
    "pycharm": {
     "is_executing": false
    }
   },
   "outputs": [],
   "source": [
    "# Return the index of the row with the lowest cost (in one line of code)\n",
    "data2['Cost'].idxmin()"
   ]
  },
  {
   "cell_type": "markdown",
   "metadata": {},
   "source": [
    "- Return the SKU with the lowest price (in one line of code)"
   ]
  },
  {
   "cell_type": "code",
   "execution_count": null,
   "metadata": {
    "pycharm": {
     "is_executing": false
    }
   },
   "outputs": [],
   "source": [
    "# Return the SKU with the lowest price (in one line of code)\n",
    "data2.iloc[data2['Price'].idxmin()]"
   ]
  },
  {
   "cell_type": "markdown",
   "metadata": {},
   "source": [
    "#   --------------------------------"
   ]
  },
  {
   "cell_type": "markdown",
   "metadata": {},
   "source": [
    "# Problem 5\n",
    "\n",
    "HSBD Bank has hired Mario, a data analyst, to do some data analysis to help the company to better understand the customers' demographic characteristics. The upper management has some questions, and Mario must find the answer by analyzing the data available. \n",
    "\n",
    "To start, please run the cell below to get the data provided by the bank (<u>it might take a few seconds to finish running</u>)."
   ]
  },
  {
   "cell_type": "code",
   "execution_count": null,
   "metadata": {
    "pycharm": {
     "is_executing": false
    }
   },
   "outputs": [],
   "source": [
    "# Run this cell but DO NOT MODIFY\n",
    "# Do not modify this part, it belongs to the question\n",
    "#------------------------------------------------------------------------------------------------------------------\n",
    "import pandas as pd\n",
    "# FIX_ME  github太慢了，把东西下载下来放到我自己的网站去了\n",
    "# url='https://raw.githubusercontent.com/juliencohensolal/BankMarketing/master/rawData/bank-additional-full.csv'\n",
    "url='http://ipp.zaituxinxi.com/bank-additional-full.csv'\n",
    "data = pd.read_csv(url,sep=\";\") # use sep=\",\" for coma separation. \n",
    "Age = data['age']\n",
    "data = data[['age', 'job', 'marital']].copy()\n",
    "#------------------------------------------------------------------------------------------------------------------"
   ]
  },
  {
   "cell_type": "markdown",
   "metadata": {},
   "source": [
    "## 5.1\n",
    "\n",
    "The series *Age* (defined in the cell above) contains information about the customers' age.\n",
    "\n",
    "Write a script that prints the customers' age every 5,000th customers. This means printing the value associated to the 5,000th element in the series, the 10,000th element, the 15,000th element, and so on.\n",
    "\n",
    "<b>Tip: Use a loop.</b>\n",
    "\n",
    "<hr>\n",
    "\n",
    "The output should have the following format:\n",
    "\n",
    "The age of the 5000 th customer is 44\n",
    "\n",
    "The age of the 10000 th customer is 28\n",
    "\n",
    "The age of the 15000 th customer is 34\n",
    "\n",
    "...etc...\n"
   ]
  },
  {
   "cell_type": "code",
   "execution_count": null,
   "metadata": {
    "pycharm": {
     "is_executing": false
    }
   },
   "outputs": [],
   "source": [
    "# Write your script for 5.1 here\n",
    "total_count=Age.count()\n",
    "i=5000\n",
    "while i<total_count:\n",
    "    print('The age of the '+str(i)+' th customer is '+str(Age.iloc[i]))\n",
    "    i+=5000"
   ]
  },
  {
   "cell_type": "markdown",
   "metadata": {},
   "source": [
    "## 5.2\n",
    "\n",
    "The dataframe *data* (defined in the cell above) contains information regarding customers' age, job, and marital status. \n",
    "\n",
    "- Print the name of all the columns in the dataframe\n",
    "- Print the shape of the dataframe to understand the size of *data*\n",
    "- In one line of code, print the average, the median, the maximum and the minimum age of the customers"
   ]
  },
  {
   "cell_type": "code",
   "execution_count": null,
   "metadata": {
    "pycharm": {
     "is_executing": false
    }
   },
   "outputs": [],
   "source": [
    "# Print the name of all the columns in the dataframe\n",
    "print(data.columns.values)\n",
    "# Print the shape of the dataframe to understand the size of data\n",
    "print(data.shape)\n",
    "# In one line of code, print the average, the median, the maximum and the minimum age of the customers.\n",
    "print('average Age:'+str(Age.mean())+' median Age: '+str(Age.median())+' max Age: '+str(Age.max())+'min Age:'+str(Age.min()))"
   ]
  },
  {
   "cell_type": "markdown",
   "metadata": {},
   "source": [
    "## 5.3\n",
    "\n",
    "- Using the maximum age of the customers, create a new column called normalized_age that contains the age of each customer divided by the maximum age.\n",
    "- Print the job information for all customers between index 500 and index 515 (including 500 and 515).\n",
    "- Delete the marital column from the dataframe \n",
    "- Dave the dataframe as an excel file to your local computer and name it Problem5.\n",
    "\n",
    "<u>Upload both this Jupyter notebook and the excel file you just saved to Stellar.</u>"
   ]
  },
  {
   "cell_type": "code",
   "execution_count": null,
   "metadata": {
    "pycharm": {
     "is_executing": false
    }
   },
   "outputs": [],
   "source": [
    "# Create a new column called normalized_age that contains the age of each customer divided by the maximum age.\n",
    "max_age=Age.max()\n",
    "data['normalized_age']=data.apply(lambda x : x.age/max_age,axis=1)\n",
    "# print(data)\n",
    "# Print the job information for all customers between index 500 and index 515 (including 500 and 515).\n",
    "for i in range(500,516):\n",
    "    customer=data.iloc[i]\n",
    "    print(str(i)+'  '+customer.job)\n",
    "# Delete the marital column from the dataframe\n",
    "data6=data.drop(columns=['marital'])\n",
    "print(data6)\n",
    "\n",
    "# Save the dataframe as an excel file to your local computer and name it Problem5.\n",
    "# FIX_ME\n",
    "data6.to_csv('/Users/eric/Desktop/Problem5.csv')"
   ]
  },
  {
   "cell_type": "code",
   "execution_count": null,
   "metadata": {
    "pycharm": {
     "is_executing": false
    }
   },
   "outputs": [],
   "source": []
  }
 ],
 "metadata": {
  "kernelspec": {
   "display_name": "Python 3",
   "language": "python",
   "name": "python3"
  },
  "language_info": {
   "codemirror_mode": {
    "name": "ipython",
    "version": 3
   },
   "file_extension": ".py",
   "mimetype": "text/x-python",
   "name": "python",
   "nbconvert_exporter": "python",
   "pygments_lexer": "ipython3",
   "version": "3.7.5-final"
  },
  "pycharm": {
   "stem_cell": {
    "cell_type": "raw",
    "source": [],
    "metadata": {
     "collapsed": false
    }
   }
  }
 },
 "nbformat": 4,
 "nbformat_minor": 2
}