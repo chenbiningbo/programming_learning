{
 "cells": [
  {
   "cell_type": "markdown",
   "metadata": {},
   "source": [
    "$ \\textbf{SCM.254 Applied Programming and Data Analysis in Python} $\n",
    "\n",
    "$ \\Large \\textbf{Session 4: Connecting the dots} $"
   ]
  },
  {
   "cell_type": "markdown",
   "metadata": {},
   "source": [
    "### Name: Dan Zheng\n",
    "### Program: Ningbo"
   ]
  },
  {
   "cell_type": "markdown",
   "metadata": {},
   "source": [
    "#   --------------------------------"
   ]
  },
  {
   "cell_type": "markdown",
   "metadata": {},
   "source": [
    "## Activity 1: A function"
   ]
  },
  {
   "cell_type": "markdown",
   "metadata": {},
   "source": [
    "Write a function to compute the economic order quantity as a function of the demand, ordering cost, and holding cost.\n",
    "\n",
    "$ Q = \\sqrt \\frac{2 \\cdot D \\cdot c_{t}}{c_{e}} $"
   ]
  },
  {
   "cell_type": "code",
   "execution_count": 9,
   "metadata": {},
   "outputs": [],
   "source": [
    "def EOQ(demand, ordering_cost, holding_cost):\n",
    "    \"\"\"\n",
    "    Calculates the Economic Order Quantity.\n",
    "    Parameters are positive int or float.\n",
    "    \"\"\"\n",
    "def EOQ(demand,ordering_cost,holding_cost):\n",
    "    return(2*demand*ordering_cost/holding_cost)**0.5\n"
   ]
  },
  {
   "cell_type": "code",
   "execution_count": 14,
   "metadata": {},
   "outputs": [
    {
     "data": {
      "text/plain": [
       "59.40885257860046"
      ]
     },
     "execution_count": 14,
     "metadata": {},
     "output_type": "execute_result"
    }
   ],
   "source": [
    "# Test case:\n",
    "new_order=EOQ(200, 30,3.4)\n",
    "new_order\n"
   ]
  },
  {
   "cell_type": "markdown",
   "metadata": {},
   "source": [
    "## Activity 2: Function with specifications"
   ]
  },
  {
   "cell_type": "markdown",
   "metadata": {},
   "source": [
    "Complete the following fuction according to the specifications:"
   ]
  },
  {
   "cell_type": "code",
   "execution_count": 18,
   "metadata": {},
   "outputs": [],
   "source": [
    "def minimum(a,b):\n",
    "    \"\"\"\n",
    "    Returns the smallest of two values, prints \"equal\" if the values are the same.\n",
    "    a,b: integers or floats\n",
    "    \"\"\"\n",
    "    if a>b:\n",
    "        return b\n",
    "    elif a<b:\n",
    "        return a\n",
    "    else:\n",
    "        print(\"equal\")"
   ]
  },
  {
   "cell_type": "code",
   "execution_count": 22,
   "metadata": {},
   "outputs": [
    {
     "name": "stdout",
     "output_type": "stream",
     "text": [
      "equal\n"
     ]
    }
   ],
   "source": [
    "# Test cases:\n",
    "# minimum(23,9)\n",
    "# minimum(0,-3)\n",
    "# minimum(-6,-4)\n",
    "minimum (7,7)"
   ]
  },
  {
   "cell_type": "markdown",
   "metadata": {},
   "source": [
    "## Activity 3"
   ]
  },
  {
   "cell_type": "markdown",
   "metadata": {},
   "source": [
    "Write the Python function <b>only3letters</b> that returns the sublist of strings in aList that contain exactly three characters. For example, if aList = [\"apple\", \"cat\", \"dog\", \"banana\"], your function should return: [\"cat\", \"dog\"]. (If aList does not contain any string with three characters, the function should return an empty list.)\n",
    "\n",
    "This function takes in a list of strings and returns a list of strings. Your function should not modify aList."
   ]
  },
  {
   "cell_type": "code",
   "execution_count": 41,
   "metadata": {},
   "outputs": [],
   "source": [
    "# Write the function only3letters here\n",
    "def only3letters(aList):\n",
    "    newList=[]\n",
    "    for word in aList:\n",
    "        if len(word)==3:\n",
    "            newList.append(word)\n",
    "    return (newList)"
   ]
  },
  {
   "cell_type": "code",
   "execution_count": 45,
   "metadata": {},
   "outputs": [
    {
     "data": {
      "text/plain": [
       "['cat', 'dog', 'sun']"
      ]
     },
     "execution_count": 45,
     "metadata": {},
     "output_type": "execute_result"
    }
   ],
   "source": [
    "# Test cases:\n",
    "only3letters([\"apple\", \"cat\", \"dog\", \"banana\", \"tree\", \"sun\"])\n",
    "# only3letters([])\n",
    "# only3letters([\"apple\",\"banana\"])"
   ]
  },
  {
   "cell_type": "markdown",
   "metadata": {},
   "source": [
    "## Activity 4"
   ]
  },
  {
   "cell_type": "markdown",
   "metadata": {},
   "source": [
    "Write the Python function <b>keysWithValueX</b> that returns a list of keys in aDict with a certain value X. The list of keys you return should be sorted in increasing order. The keys and values in aDict are both integers. (If aDict does not contain the value target, you should return an empty list.)\n",
    "\n",
    "This function takes in a dictionary and an integer and returns a list."
   ]
  },
  {
   "cell_type": "code",
   "execution_count": 53,
   "metadata": {},
   "outputs": [],
   "source": [
    "def keysWithValueX(aDict, X):\n",
    "    '''\n",
    "    aDict: a dictionary with both keys and values of type int\n",
    "    X: an integer\n",
    "     '''\n",
    "    result=[]\n",
    "    for key in aDict:\n",
    "        if aDict[key]==X:\n",
    "            result.append(key)\n",
    "    result.sort()\n",
    "    return(result)\n",
    "       \n",
    "    "
   ]
  },
  {
   "cell_type": "code",
   "execution_count": 55,
   "metadata": {},
   "outputs": [
    {
     "data": {
      "text/plain": [
       "[5, 6, 10]"
      ]
     },
     "execution_count": 55,
     "metadata": {},
     "output_type": "execute_result"
    }
   ],
   "source": [
    "# Test cases:\n",
    "# keysWithValueX({}, 0)\n",
    "keysWithValueX({1: 2, 10: 0, 5: 0, 6: 0, 7: 1}, 0)\n",
    "# keysWithValueX({1: 3, 2: 3, 4: 2, 5: 2, 6: 2, 8: 2, 9: 3}, 2)\n",
    "# keysWithValueX({8: 1, 10: 2, 2: 1, 5: 0}, 3)"
   ]
  },
  {
   "cell_type": "markdown",
   "metadata": {},
   "source": [
    "## Activity 5"
   ]
  },
  {
   "cell_type": "markdown",
   "metadata": {},
   "source": [
    "Write the Python function <b>noVowelsNoNumbers</b> that takes in a string and prints out a version of the string that does not contain neither vowels nor numbers, according to the specification below.\n",
    "\n",
    "For example, if S = \"This is 2 great!\" then noVowelsNoNumbers will print \"Ths s grt!\". If S = \"a1\" then noVowelsNoNumbers will print the empty string ."
   ]
  },
  {
   "cell_type": "code",
   "execution_count": 71,
   "metadata": {},
   "outputs": [],
   "source": [
    "def noVowelsNoNumbers(S):\n",
    "    '''\n",
    "    S: the string to convert\n",
    "    Finds a version of S without vowels and without numbers and whose characters appear in the \n",
    "    same order they appear in S. Prints the new version of S.\n",
    "    Does not return anything.\n",
    "    '''"
   ]
  },
  {
   "cell_type": "code",
   "execution_count": 77,
   "metadata": {},
   "outputs": [],
   "source": [
    "# Test cases:\n",
    "# noVowelsNoNumbers(\"This is 2 great!\")\n",
    "# noVowelsNoNumbers(\"a1\")\n",
    "# noVowelsNoNumbers(\"\")\n",
    "# noVowelsNoNumbers(\"123sbte\")\n",
    "# noVowelsNoNumbers(\"I live in 324 Massachussets Avenue\")"
   ]
  },
  {
   "cell_type": "markdown",
   "metadata": {},
   "source": [
    "## Activity 6"
   ]
  },
  {
   "cell_type": "markdown",
   "metadata": {},
   "source": [
    "Write the function <b>reorder</b> that, given a dictionary containing SKUs and the units in stock, returns a list with all the names of the SKUs with less than 20 units in stock."
   ]
  },
  {
   "cell_type": "code",
   "execution_count": 82,
   "metadata": {},
   "outputs": [],
   "source": [
    "# Write the function reorder here"
   ]
  },
  {
   "cell_type": "code",
   "execution_count": 90,
   "metadata": {},
   "outputs": [],
   "source": [
    "# inventory = {\"100AJ\":16,\"151BR\":0,\"203YW\":85,\"063PQ\":57}\n",
    "# reorder(inventory)"
   ]
  },
  {
   "cell_type": "markdown",
   "metadata": {},
   "source": [
    "## Activity 7\n",
    "Write the function <b>wordCount</b> that, given a list of words, creates a dictionary that associates each word (key) with the number of times it appears in the list (value)."
   ]
  },
  {
   "cell_type": "code",
   "execution_count": 78,
   "metadata": {},
   "outputs": [],
   "source": [
    "def wordCount(L):\n",
    "    \"\"\"\n",
    "    L: list of strings\n",
    "    Creates a dictionary that associates each word (key) \n",
    "    with the number of times it appears in the list (value).\n",
    "    \"\"\""
   ]
  },
  {
   "cell_type": "code",
   "execution_count": 81,
   "metadata": {},
   "outputs": [],
   "source": [
    "# Test cases:\n",
    "# wordCount([\"sugar\",\"egg\",\"flour\",\"egg\",\"chocolate\",\"flour\"])\n",
    "# wordCount([])"
   ]
  },
  {
   "cell_type": "markdown",
   "metadata": {},
   "source": [
    "## Activity 8: Testing\n",
    "Create test cases for the following code:"
   ]
  },
  {
   "cell_type": "code",
   "execution_count": 63,
   "metadata": {},
   "outputs": [],
   "source": [
    "def absolut(x):\n",
    "    \"\"\"\n",
    "    Assumes x is an int\n",
    "    Returns x if x>=0 and -x otherwise\n",
    "    \"\"\"\n",
    "    if x< 0:\n",
    "        return (-x)\n",
    "    else:\n",
    "        return (x)"
   ]
  },
  {
   "cell_type": "code",
   "execution_count": 64,
   "metadata": {},
   "outputs": [
    {
     "data": {
      "text/plain": [
       "1"
      ]
     },
     "execution_count": 64,
     "metadata": {},
     "output_type": "execute_result"
    }
   ],
   "source": [
    "#test 1:\n",
    "#absolut(3)\n",
    "\n",
    "#test 2:\n",
    "#absolut(-3)\n",
    "\n",
    "#test 3:\n",
    "#absolut(0)\n",
    "\n",
    "#test 4:\n",
    "absolut (-1)"
   ]
  },
  {
   "cell_type": "markdown",
   "metadata": {},
   "source": [
    "## Activity 9: Debugging\n",
    "Debug the following code:"
   ]
  },
  {
   "cell_type": "code",
   "execution_count": 15,
   "metadata": {},
   "outputs": [],
   "source": [
    "def isPal(x):\n",
    "    \"\"\"\n",
    "    Assumes x is a list\n",
    "    Returns True if the list is a palindrome, False otherwise.\n",
    "    A palindrome is a sequence that reads the same backward as forward.\n",
    "    \"\"\"\n",
    "    temp = x\n",
    "    temp.reverse\n",
    "    if temp == x:\n",
    "        return True\n",
    "    else:\n",
    "        return False\n",
    "\n",
    "def silly(n):\n",
    "    \"\"\"\n",
    "    Assumes n is an int > 0\n",
    "    Gets n inputs from user\n",
    "    Prints \"Yes\" is the sequence of inputs forms a palindrome; \"No\"otherwise\n",
    "    \"\"\"\n",
    "    for i in range(n):\n",
    "        result = []\n",
    "        elem = input(\"Enter element:\")\n",
    "        result.append(elem)\n",
    "    if isPal(result):\n",
    "        print(\"Yes\")\n",
    "    else:\n",
    "        print(\"No\")"
   ]
  },
  {
   "cell_type": "markdown",
   "metadata": {},
   "source": [
    "#   --------------------------------"
   ]
  },
  {
   "cell_type": "markdown",
   "metadata": {},
   "source": [
    "## PROBLEM 4.1"
   ]
  },
  {
   "cell_type": "markdown",
   "metadata": {},
   "source": [
    "A sports shoe company in Oregon is going to establish a new line of product. The line will produce two types of products, one is advertised for strenght training and the other for running. Due to the difference in cushioning for each type of shoe and size, the company wants to know how many pairs of each type by size should produce. This will help them to plan their supply chain better and order the right amount of raw materials. \n",
    "\n",
    "Sally is in charge of this new product line and she has received a dataset from another product line within the same company which has similar products. This dataset contains the historical demand of two types of shoes by size. Now Sally is asking you to perform the following exercises on the dataset. \n",
    "\n",
    "| Shoes Type           | Size    | Demand QTY |\n",
    "|:----------------------|:---------:|:------------:|\n",
    "|Running               |14       |3     |\n",
    "|Running               |13.5     |5     |\n",
    "|Running               |9        |8     |\n",
    "|Running               |13       |8     |\n",
    "|Strenght Training     |11       |8     |\n",
    "|Strenght Training     |10.5     |1     |\n",
    "|Strenght Training     |7.5      |7     |\n",
    "|Strenght Training     |10       |1     |\n",
    "|Strenght Training     |8.5      |2     |\n",
    "|Running               |11.5     |9     |\n",
    "|Strenght Training     |9        |8     |\n",
    "|Strenght Training     |11       |3     |\n",
    "|Strenght Training     |8        |3     |\n",
    "|Running               |6.5      |2     |\n",
    "|Running               |10.5     |7     |\n",
    "|Strenght Training     |12       |3     |\n",
    "|Running               |8        |0     |\n",
    "|Strenght Training     |12       |4     |\n",
    "|Strenght Training     |7        |9     |\n",
    "|Strenght Training     |9.5      |7     |\n",
    "|Running               |12.5     |0     |\n",
    "|Strenght Training     |7        |9     |\n"
   ]
  },
  {
   "cell_type": "markdown",
   "metadata": {},
   "source": [
    "The dictionary Shoes (below) contains all the information from the table (shoes type, size and demand).\n",
    "\n",
    "- Write a script that uses a for loop and an if clause to create two lists: list R for Running and list ST for Strenght Training. Each of these lists should contain all the information of the dictionary.\n",
    "- In the list R, delete the string \"Running\" from all the elements of the list.\n",
    "- Sort the elements of the list R in ascending order by size."
   ]
  },
  {
   "cell_type": "code",
   "execution_count": 1,
   "metadata": {},
   "outputs": [],
   "source": [
    "#---------------Part of the question do not modify---------------#\n",
    "Shoes = {0 : [\"Running\",14,3],1 : [\"Running\",13.5,5], 2 : [\"Running\",9,8], 3: [\"Running\" ,13,8],\n",
    "         4:[\"Strenght Training\",11 ,8], 5:[\"Strenght Training\",10.5,1], 6:[\"Strenght Training\",7.5,7], \n",
    "         7:[\"Strenght Training\",10,1], 8:[\"Strenght Training\",8.5,2], 9:[\"Running\",11.5,9], \n",
    "         10:[\"Strenght Training\",9,8], 11:[\"Strenght Training\",11,3], 12:[\"Strenght Training\",8,3],\n",
    "         13:[\"Running\",6.5,2], 14:[\"Running\",10.5,7], 15:[\"Strenght Training\",12,3], \n",
    "         16:[\"Running\",8,0],17:[\"Strenght Training\",12,4], 18:[\"Strenght Training\",7,9],\n",
    "         19:[\"Strenght Training\",9.5,7], 20:[\"Running\",12.5,0],21:[\"Strenght Training\",7,9]}\n",
    "#----------------------------------------------------------------#\n",
    "\n",
    "# Use a for loop and an if clause to create two lists: list R for Running type and list ST for Strenght Training type\n",
    "# Write your code below this line\n"
   ]
  },
  {
   "cell_type": "code",
   "execution_count": 2,
   "metadata": {},
   "outputs": [],
   "source": [
    "# In the list R, delete the string \"Running\" from all the elements of the list.\n"
   ]
  },
  {
   "cell_type": "code",
   "execution_count": 3,
   "metadata": {},
   "outputs": [],
   "source": [
    "# Sort the elements of the list R in ascending order by size.\n"
   ]
  },
  {
   "cell_type": "markdown",
   "metadata": {},
   "source": [
    "## PROBLEM 4.2"
   ]
  },
  {
   "cell_type": "markdown",
   "metadata": {},
   "source": [
    "Sam has recently joined a company as an analyst. The previous analyst, that he replaced, developed some data analysis code in python. However, when Sam is trying to run the code, some of the lines appear to fail. Can you help Sam and fix the lines below?"
   ]
  },
  {
   "cell_type": "code",
   "execution_count": 4,
   "metadata": {},
   "outputs": [],
   "source": [
    "# This code is supposed to print the total cost S.\n",
    "S = \"$5350.50\"\n",
    "Print(\"The total cost is equal to \", S)"
   ]
  },
  {
   "cell_type": "code",
   "execution_count": 5,
   "metadata": {},
   "outputs": [],
   "source": [
    "# This code is supposed to print numbers in ascending order.\n",
    "for i in (1, 10):\n",
    "print(i)"
   ]
  },
  {
   "cell_type": "code",
   "execution_count": null,
   "metadata": {},
   "outputs": [],
   "source": [
    "# This code is supposed to print the result of applying the function cube to the variable x.\n",
    "\n",
    "x = 2\n",
    "\n",
    "def cube(Number):\n",
    "    x = Number ** 3\n",
    "    Number = Number + 1\n",
    "\n",
    "print(x)"
   ]
  },
  {
   "cell_type": "markdown",
   "metadata": {},
   "source": [
    "## PROBLEM 4.3"
   ]
  },
  {
   "cell_type": "markdown",
   "metadata": {},
   "source": [
    "Janette is having an on site interview with a global supply chain company. The firm expects the candidate to have a basic knowledge of python. One of the tasks during the onsite interview process is to be able to pass simple python questions.\n",
    "\n",
    "Below is a sample of the test during the interview. Please help Janette to solve these problems.\n"
   ]
  },
  {
   "cell_type": "markdown",
   "metadata": {},
   "source": [
    "<b>Part 1:</b> Using the lists Revenue and Cost provided in the cell below: \n",
    "- Write a for loop to create the list Profit, that contains the daily profit for the last 7 days. Print the list Profit.\n",
    "- Using a for loop and the list Profit, create a variable Weekly_Profit that contains the sum of all daily profits. Print the variable Weekly_Profit."
   ]
  },
  {
   "cell_type": "code",
   "execution_count": 6,
   "metadata": {},
   "outputs": [],
   "source": [
    "# Revenue is a list that contains the daily revenue for the last 7 days.\n",
    "Revenue = [100, 200, 150, 70, 120, 230, 55]\n",
    "\n",
    "# Cost is a list that contains the daily cost for the last 7 days.\n",
    "Cost = [80, 95, 75, 70, 100, 130, 25]\n",
    "\n",
    "# Using the lists Revenue and Cost, write a for loop to create the list Profit, that contains the daily profit \n",
    "# for the last 7 days. Print the list Profit.\n",
    "# ---> Write your answer below\n",
    "\n",
    "\n",
    "# Using a for loop and the list Profit, create a variable Weekly_Profit that contains the sum of all daily profits. \n",
    "# Print the variable Weekly_Profit.\n",
    "#---> Write your answer below\n",
    "\n"
   ]
  },
  {
   "cell_type": "markdown",
   "metadata": {},
   "source": [
    "<b>Part 2:</b> \n",
    "- Create a function that goes through a list and returns the index of the element with the highest value.\n",
    "- Using the function you just created, in one line of code, print the maximum age from the list Age_of_Customers (provided in the cell below)."
   ]
  },
  {
   "cell_type": "code",
   "execution_count": 8,
   "metadata": {},
   "outputs": [],
   "source": [
    "#---------------Part of the question do not modify---------------#\n",
    "Age_of_Customers = [45, 62, 36, 40, 50, 20, 39, 54, 16, 60, 56, 46, 52, 28, 31, 27, 66, 69, 59, 49, 47, 44, 37, 18, 38]\n",
    "#----------------------------------------------------------------#\n",
    "\n",
    "# Create a function that goes through a list and returns the index of the element with the highest value.\n",
    "# ---> Write your answer below\n",
    "\n",
    "\n",
    "# Using the function you just created, in one line of code, print the maximum age from the list Age_of_Customers\n",
    "# ---> write your answer below\n"
   ]
  },
  {
   "cell_type": "markdown",
   "metadata": {},
   "source": [
    "<b>Part 3:</b>\n",
    "- Write a for loop for that goes through the list Age_of_Customers and prints the first element that is smaller than 19 along with its index. Also stop the loop immediately after the print.\n",
    "- Using a while loop, count the number of customers older than 50 and print the final number."
   ]
  },
  {
   "cell_type": "code",
   "execution_count": 7,
   "metadata": {},
   "outputs": [],
   "source": [
    "#---------------Part of the question do not modify---------------#\n",
    "Age_of_Customers = [45, 62, 36, 40, 50, 20, 39, 54, 16, 60, 56, 46, 52, 28, 31, 27, 66, 69, 59, 49, 47, 44, 37, 18, 38]\n",
    "#----------------------------------------------------------------#\n",
    "\n",
    "# Write a for loop for that goes through the list Age_of_Customers and prints the first element \n",
    "# that is smaller than 19 along with its index. Also stop the loop immediately after the print.\n",
    "# ---> Write your answer below\n",
    "\n",
    "\n",
    "# Using a while loop count the number of customers older than 50 and print the final number.\n",
    "# ---> Write your answer below\n"
   ]
  }
 ],
 "metadata": {
  "kernelspec": {
   "display_name": "Python 3",
   "language": "python",
   "name": "python3"
  },
  "language_info": {
   "codemirror_mode": {
    "name": "ipython",
    "version": 3
   },
   "file_extension": ".py",
   "mimetype": "text/x-python",
   "name": "python",
   "nbconvert_exporter": "python",
   "pygments_lexer": "ipython3",
   "version": "3.7.0"
  },
  "pycharm": {
   "stem_cell": {
    "cell_type": "raw",
    "source": [],
    "metadata": {
     "collapsed": false
    }
   }
  }
 },
 "nbformat": 4,
 "nbformat_minor": 2
}